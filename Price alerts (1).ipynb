{
 "cells": [
  {
   "cell_type": "code",
   "execution_count": 2,
   "metadata": {},
   "outputs": [],
   "source": [
    "import requests\n",
    "from bs4 import BeautifulSoup\n",
    "import time\n",
    "import smtplib\n",
    "import pprint\n",
    "import re\n",
    "import math"
   ]
  },
  {
   "cell_type": "code",
   "execution_count": 3,
   "metadata": {},
   "outputs": [],
   "source": [
    "def sendemail(from_addr, to_addr_list, \n",
    "              subject, message,\n",
    "              login, password,\n",
    "              smtpserver='smtp.gmail.com:587'):\n",
    "    header  = 'From: %s\\n' % from_addr\n",
    "    header += 'To: %s\\n' % ','.join(to_addr_list)\n",
    "    header += 'Subject: %s\\n\\n' % subject\n",
    "    message = header + message\n",
    " \n",
    "    server = smtplib.SMTP(smtpserver)\n",
    "    server.starttls()\n",
    "    server.login(login,password)\n",
    "    problems = server.sendmail(from_addr, to_addr_list, message)\n",
    "    server.quit()\n",
    "    return problems"
   ]
  },
  {
   "cell_type": "code",
   "execution_count": 7,
   "metadata": {},
   "outputs": [
    {
     "ename": "NameError",
     "evalue": "name 'price' is not defined",
     "output_type": "error",
     "traceback": [
      "\u001b[0;31m---------------------------------------------------------------------------\u001b[0m",
      "\u001b[0;31mNameError\u001b[0m                                 Traceback (most recent call last)",
      "\u001b[0;32m<ipython-input-7-f36656f53a39>\u001b[0m in \u001b[0;36m<module>\u001b[0;34m()\u001b[0m\n\u001b[1;32m     14\u001b[0m     \u001b[0;32mfor\u001b[0m \u001b[0mitem\u001b[0m \u001b[0;32min\u001b[0m \u001b[0msoup\u001b[0m\u001b[0;34m.\u001b[0m\u001b[0mfind_all\u001b[0m\u001b[0;34m(\u001b[0m\u001b[0;34m'div'\u001b[0m\u001b[0;34m,\u001b[0m\u001b[0;34m{\u001b[0m\u001b[0;34m'class'\u001b[0m\u001b[0;34m:\u001b[0m\u001b[0;34m'_1vC4OE'\u001b[0m\u001b[0;34m}\u001b[0m\u001b[0;34m)\u001b[0m\u001b[0;34m[\u001b[0m\u001b[0;34m:\u001b[0m\u001b[0;36m1\u001b[0m\u001b[0;34m]\u001b[0m\u001b[0;34m:\u001b[0m\u001b[0;34m\u001b[0m\u001b[0m\n\u001b[1;32m     15\u001b[0m          \u001b[0mprice\u001b[0m\u001b[0;34m=\u001b[0m\u001b[0mitem\u001b[0m\u001b[0;34m\u001b[0m\u001b[0m\n\u001b[0;32m---> 16\u001b[0;31m     \u001b[0mprint\u001b[0m \u001b[0;34m(\u001b[0m\u001b[0mprice\u001b[0m\u001b[0;34m)\u001b[0m\u001b[0;34m\u001b[0m\u001b[0m\n\u001b[0m\u001b[1;32m     17\u001b[0m     \u001b[0msoup\u001b[0m \u001b[0;34m=\u001b[0m \u001b[0mBeautifulSoup\u001b[0m\u001b[0;34m(\u001b[0m\u001b[0mstr\u001b[0m\u001b[0;34m(\u001b[0m\u001b[0mprice\u001b[0m\u001b[0;34m)\u001b[0m\u001b[0;34m)\u001b[0m\u001b[0;34m\u001b[0m\u001b[0m\n\u001b[1;32m     18\u001b[0m     \u001b[0;31m# Get the text on the html through BeautifulSoup\u001b[0m\u001b[0;34m\u001b[0m\u001b[0;34m\u001b[0m\u001b[0m\n",
      "\u001b[0;31mNameError\u001b[0m: name 'price' is not defined"
     ]
    }
   ],
   "source": [
    "# Create a variable with the url\n",
    "url='https://www.flipkart.com/apple-iphone-7-black-32-gb/p/itmen6daftcqwzeg?pid=MOBEMK62PN2HU7EE&srno=b_1_1&otracker=clp_banner_1_4.bannerX3.BANNER_apple-products-store_FE614TWN2X_wp4&lid=LSTMOBEMK62PN2HU7EEINTGNU&fm=organic&iid=663b612e-8a3f-4f3e-8fb2-eab67f37c990.MOBEMK62PN2HU7EE.SEARCH'\n",
    "# Use requests to get the contents\n",
    "prevoius_Price=0\n",
    "Mode=\"DEV\"\n",
    "while True: \n",
    "    r = requests.get(url)\n",
    "    # Get the text of the contents\n",
    "    html_content = r.text\n",
    "\n",
    "    # Convert the html content into a beautiful soup object\n",
    "    soup = BeautifulSoup(html_content, 'lxml')\n",
    "    # pprint.pprint(soup)\n",
    "    for item in soup.find_all('div',{'class':'_1vC4OE'})[:1]:\n",
    "         price=item\n",
    "    print (price)\n",
    "    soup = BeautifulSoup(str(price))\n",
    "    # Get the text on the html through BeautifulSoup\n",
    "    text = soup.get_text()\n",
    "#     print(text)\n",
    "    latest_price = re.sub('[^0-9]', '', text)\n",
    "#     print(latest_price)\n",
    "    print (latest_price)\n",
    "#     if Mode==\"DEV\":\n",
    "#         prevoius_Price=int(prevoius_Price)+1000\n",
    "    if int(latest_price) < int(prevoius_Price) and prevoius_Price!=0:\n",
    "        st= \"Price Dropped\"\n",
    "        amount_change = (int(prevoius_Price) - int(latest_price))\n",
    "        amount_percentage= round(((amount_change)/(int(prevoius_Price)))*100)\n",
    "        URL = url\n",
    "        sendemail(from_addr    ='dvsnraju777@gmail.com',\n",
    "          to_addr_list = ['pavan9347444446@gmail.com'], \n",
    "          subject      = 'Wowwwww.......Price Dropped!!!!',\n",
    "          message      =('Price Dropped Amount :'+str(amount_change)+'\\n\\n'+\n",
    "                         'Percentage % of Amount dropped :'+str(amount_percentage)+'\\n\\n'+\n",
    "                        'Product Link : '+URL),\n",
    "\n",
    "          login        ='dvsnraju777@gmail.com', \n",
    "          password='934744444@6',\n",
    "          smtpserver='smtp.gmail.com:587')\n",
    "    elif int(latest_price) > int(prevoius_Price) and prevoius_Price!=0:\n",
    "        st= \"Price Increased\"\n",
    "        amount_change = (int(latest_price) - int(prevoius_Price))\n",
    "        amount_percentage= round(((amount_change)/(int(prevoius_Price)))*100)\n",
    "        URL = url\n",
    "        sendemail(from_addr    ='dvsnraju777@gmail.com',\n",
    "          to_addr_list = ['pavan9347444446@gmail.com'], \n",
    "          subject      = 'Damn........Price Increased !!!!!',\n",
    "          message      =('Price Increased Amount :'+str(amount_change)+'\\n\\n'+\n",
    "                         'Percentage % of Amount Increased :'+str(amount_percentage)+'\\n\\n'+\n",
    "                        'Product Link : '+URL),\n",
    "\n",
    "          login        ='dvsnraju777@gmail.com', \n",
    "          password='934744444@6',\n",
    "          smtpserver='smtp.gmail.com:587')\n",
    "    else :\n",
    "        st=\"No Change in price\"\n",
    "    prevoius_Price=latest_price\n",
    "    print(st)\n",
    "    time.sleep(5)\n",
    "\n",
    "\n"
   ]
  },
  {
   "cell_type": "code",
   "execution_count": null,
   "metadata": {},
   "outputs": [],
   "source": []
  }
 ],
 "metadata": {
  "kernelspec": {
   "display_name": "Python 3",
   "language": "python",
   "name": "python3"
  },
  "language_info": {
   "codemirror_mode": {
    "name": "ipython",
    "version": 3
   },
   "file_extension": ".py",
   "mimetype": "text/x-python",
   "name": "python",
   "nbconvert_exporter": "python",
   "pygments_lexer": "ipython3",
   "version": "3.6.5"
  }
 },
 "nbformat": 4,
 "nbformat_minor": 2
}
